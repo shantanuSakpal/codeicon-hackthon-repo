{
 "cells": [
  {
   "cell_type": "code",
   "execution_count": 1,
   "metadata": {},
   "outputs": [],
   "source": [
    "import cv2\n",
    "import pytesseract\n",
    "\n",
    "# Load the document image\n",
    "image = cv2.imread('stamp_1.jpg')\n",
    "\n",
    "# Preprocessing (e.g., convert to grayscale, thresholding, etc.)\n",
    "\n",
    "# Object Detection - You would replace this with your seal/stamp detection logic\n",
    "seal_stamps = []  # List to store detected seal/stamp regions\n",
    "\n",
    "# For each detected seal/stamp region, extract text\n",
    "for region in seal_stamps:\n",
    "    x, y, w, h = region\n",
    "    seal_stamp_img = image[y:y+h, x:x+w]\n",
    "\n",
    "    # Perform OCR on the seal/stamp\n",
    "    seal_stamp_text = pytesseract.image_to_string(seal_stamp_img)\n",
    "\n",
    "    print(\"Text from seal/stamp:\", seal_stamp_text)\n",
    "\n",
    "# Visualization: Draw bounding boxes on the original image\n",
    "for (x, y, w, h) in seal_stamps:\n",
    "    cv2.rectangle(image, (x, y), (x + w, y + h), (0, 255, 0), 2)\n",
    "\n",
    "cv2.imshow('Document with Seals/Stamps', image)\n",
    "cv2.waitKey(0)\n",
    "cv2.destroyAllWindows()\n"
   ]
  },
  {
   "cell_type": "code",
   "execution_count": 3,
   "metadata": {},
   "outputs": [],
   "source": [
    "import cv2\n",
    "import pytesseract\n",
    "\n",
    "# Load the document image\n",
    "image = cv2.imread('stamp_1.jpg')\n",
    "\n",
    "# Preprocessing (e.g., convert to grayscale, thresholding, etc.)\n",
    "\n",
    "# Object Detection - You would replace this with your seal/stamp detection logic\n",
    "seal_stamps = []  # List to store detected seal/stamp regions\n",
    "\n",
    "# Draw bounding boxes around the detected seal/stamp regions\n",
    "for (x, y, w, h) in seal_stamps:\n",
    "    cv2.rectangle(image, (x, y), (x + w, y + h), (0, 255, 0), 2)\n",
    "\n",
    "# Visualization: Show the document image with highlighted seal/stamp regions\n",
    "cv2.imshow('Document with Highlighted Seals/Stamps', image)\n",
    "cv2.waitKey(0)\n",
    "cv2.destroyAllWindows()\n"
   ]
  },
  {
   "cell_type": "code",
   "execution_count": null,
   "metadata": {},
   "outputs": [],
   "source": [
    "import cv2\n",
    "\n",
    "# Read the image\n",
    "image = cv2.imread('your_image.jpg')\n",
    "\n",
    "# Reduce contrast (e.g., alpha < 1)\n",
    "alpha = 0.5\n",
    "beta = 0\n",
    "\n",
    "# Apply contrast stretching\n",
    "result = cv2.convertScaleAbs(image, alpha=alpha, beta=beta)\n",
    "\n",
    "# Display the result\n",
    "cv2.imshow('Reduced Contrast Image', result)\n",
    "cv2.waitKey(0)\n",
    "cv2.destroyAllWindows()\n"
   ]
  }
 ],
 "metadata": {
  "kernelspec": {
   "display_name": "Python 3",
   "language": "python",
   "name": "python3"
  },
  "language_info": {
   "codemirror_mode": {
    "name": "ipython",
    "version": 3
   },
   "file_extension": ".py",
   "mimetype": "text/x-python",
   "name": "python",
   "nbconvert_exporter": "python",
   "pygments_lexer": "ipython3",
   "version": "3.11.5"
  }
 },
 "nbformat": 4,
 "nbformat_minor": 2
}
